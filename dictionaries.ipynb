{
 "cells": [
  {
   "cell_type": "markdown",
   "metadata": {},
   "source": []
  },
  {
   "attachments": {},
   "cell_type": "markdown",
   "metadata": {},
   "source": [
    "# *Dictionaries*"
   ]
  },
  {
   "cell_type": "code",
   "execution_count": 5,
   "metadata": {},
   "outputs": [
    {
     "name": "stdout",
     "output_type": "stream",
     "text": [
      "{'key': 'value'}\n",
      "value\n"
     ]
    }
   ],
   "source": [
    "dictionary = {'key': 'value'}\n",
    "\n",
    "print(dictionary)\n",
    "\n",
    "print(dictionary['key'])"
   ]
  },
  {
   "cell_type": "code",
   "execution_count": 6,
   "metadata": {},
   "outputs": [],
   "source": [
    "dictionary = {'name': 'Evandro', 'age': 23}"
   ]
  },
  {
   "cell_type": "code",
   "execution_count": 14,
   "metadata": {},
   "outputs": [
    {
     "name": "stdout",
     "output_type": "stream",
     "text": [
      "fawer tem 12 anos\n"
     ]
    }
   ],
   "source": [
    "name = input('Qual seu nome?')\n",
    "age = input(f'Olá, {name} quantos anos voce tem?')\n",
    "\n",
    "person = {'name': name, 'age': age}\n",
    "\n",
    "print( f'{ person[\"name\"]} tem {person[\"age\"]} anos')\n"
   ]
  },
  {
   "cell_type": "code",
   "execution_count": 16,
   "metadata": {},
   "outputs": [
    {
     "name": "stdout",
     "output_type": "stream",
     "text": [
      "{'nome': 'Evandro', 'idade': '23', 'altura': '1,67', 'peso': '92'}\n"
     ]
    }
   ],
   "source": [
    "keys = ['nome', 'idade', 'altura', 'peso']\n",
    "\n",
    "person = {}\n",
    "\n",
    "for attr in keys:\n",
    "    person[attr] = input(f'Digite sua {attr} :')\n",
    "\n",
    "print (person)\n",
    "\n"
   ]
  }
 ],
 "metadata": {
  "kernelspec": {
   "display_name": "Python 3.8.10 64-bit",
   "language": "python",
   "name": "python3"
  },
  "language_info": {
   "codemirror_mode": {
    "name": "ipython",
    "version": 3
   },
   "file_extension": ".py",
   "mimetype": "text/x-python",
   "name": "python",
   "nbconvert_exporter": "python",
   "pygments_lexer": "ipython3",
   "version": "3.8.10"
  },
  "orig_nbformat": 4,
  "vscode": {
   "interpreter": {
    "hash": "916dbcbb3f70747c44a77c7bcd40155683ae19c65e1c03b4aa3499c5328201f1"
   }
  }
 },
 "nbformat": 4,
 "nbformat_minor": 2
}
