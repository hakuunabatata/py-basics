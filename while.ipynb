{
 "cells": [
  {
   "cell_type": "code",
   "execution_count": 4,
   "metadata": {},
   "outputs": [
    {
     "name": "stdout",
     "output_type": "stream",
     "text": [
      "x = 1\n",
      "x = 2\n",
      "x = 4\n",
      "x = 8\n",
      "x = 16\n",
      "x = 32\n",
      "x = 64\n"
     ]
    }
   ],
   "source": [
    "x = 1\n",
    "\n",
    "while x < 100:\n",
    "    print(f'x = {x}')\n",
    "    x *= 2\n"
   ]
  },
  {
   "cell_type": "code",
   "execution_count": 8,
   "metadata": {},
   "outputs": [
    {
     "name": "stdout",
     "output_type": "stream",
     "text": [
      "0 - O valor de x é 15\n",
      "1 - O valor de x é 25\n",
      "2 - O valor de x é 26\n",
      "3 - O valor de x é 48\n",
      "4 - O valor de x é 52\n",
      "5 - O valor de x é 100\n",
      "6 - O valor de x é 101\n",
      "7 - O valor de x é 201\n",
      "8 - O valor de x é 301\n",
      "9 - O valor de x é 401\n",
      "10 - O valor de x é 501\n",
      "11 - O valor de x é 601\n",
      "12 - O valor de x é 701\n",
      "13 - O valor de x é 801\n",
      "14 - O valor de x é 901\n",
      "15 - O valor de x é 1001\n",
      "16 - O valor de x é 1101\n",
      "17 - O valor de x é 1201\n",
      "18 - O valor de x é 1301\n",
      "19 - O valor de x é 1401\n",
      "20 - O valor de x é 1501\n",
      "21 - O valor de x é 1601\n",
      "22 - O valor de x é 1701\n",
      "23 - O valor de x é 1801\n",
      "24 - O valor de x é 1901\n",
      "25 - O valor de x é 2001\n",
      "26 - O valor de x é 2101\n",
      "27 - O valor de x é 2201\n",
      "28 - O valor de x é 2301\n",
      "29 - O valor de x é 2401\n",
      "30 - O valor de x é 2501\n",
      "31 - O valor de x é 2601\n",
      "32 - O valor de x é 2701\n",
      "33 - O valor de x é 2801\n",
      "34 - O valor de x é 2901\n",
      "35 - O valor de x é 3001\n",
      "36 - O valor de x é 3101\n",
      "37 - O valor de x é 3201\n",
      "38 - O valor de x é 3301\n",
      "39 - O valor de x é 3401\n",
      "40 - O valor de x é 3501\n",
      "41 - O valor de x é 3601\n",
      "42 - O valor de x é 3701\n",
      "43 - O valor de x é 3801\n",
      "44 - O valor de x é 3901\n",
      "45 - O valor de x é 4001\n",
      "46 - O valor de x é 4101\n",
      "47 - O valor de x é 4201\n",
      "48 - O valor de x é 4301\n",
      "49 - O valor de x é 4401\n",
      "50 - O valor de x é 4501\n",
      "51 - O valor de x é 4601\n",
      "52 - O valor de x é 4701\n",
      "53 - O valor de x é 4801\n",
      "54 - O valor de x é 4901\n",
      "55 - O valor de x é 5001\n",
      "56 - O valor de x é 5101\n",
      "57 - O valor de x é 5201\n",
      "58 - O valor de x é 5301\n",
      "59 - O valor de x é 5401\n",
      "60 - O valor de x é 5501\n",
      "61 - O valor de x é 5601\n",
      "62 - O valor de x é 5701\n",
      "63 - O valor de x é 5801\n",
      "64 - O valor de x é 5901\n",
      "65 - O valor de x é 6001\n",
      "66 - O valor de x é 6101\n",
      "67 - O valor de x é 6201\n",
      "68 - O valor de x é 6301\n",
      "69 - O valor de x é 6401\n",
      "70 - O valor de x é 6501\n",
      "71 - O valor de x é 6601\n",
      "72 - O valor de x é 6701\n",
      "73 - O valor de x é 6801\n",
      "74 - O valor de x é 6901\n",
      "75 - O valor de x é 7001\n",
      "76 - O valor de x é 7101\n",
      "77 - O valor de x é 7201\n",
      "78 - O valor de x é 7301\n",
      "79 - O valor de x é 7401\n",
      "80 - O valor de x é 7501\n",
      "81 - O valor de x é 7601\n",
      "82 - O valor de x é 7701\n",
      "83 - O valor de x é 7801\n",
      "84 - O valor de x é 7901\n",
      "85 - O valor de x é 8001\n",
      "86 - O valor de x é 8101\n",
      "87 - O valor de x é 8201\n",
      "88 - O valor de x é 8301\n",
      "89 - O valor de x é 8401\n",
      "90 - O valor de x é 8501\n",
      "91 - O valor de x é 8601\n",
      "92 - O valor de x é 8701\n",
      "93 - O valor de x é 8801\n",
      "94 - O valor de x é 8901\n",
      "O valor final foi 9001 e foram necessárias 95 vezes para chegar a 9000\n"
     ]
    }
   ],
   "source": [
    "x = int(input('insira o valor inicial: '))\n",
    "y = 0\n",
    "max = int(input('insira o valor maximo:'))\n",
    "\n",
    "while (x <= max):\n",
    "    print(f'{y} - O valor de x é {x}')\n",
    "    add = 1\n",
    "    if(x != 0):\n",
    "        if(100 % x !=0):\n",
    "            add = 100 %x\n",
    "    x += add\n",
    "    y += 1\n",
    "else: \n",
    "    print(f'O valor final foi {x} e foram necessárias {y} vezes para chegar a {max}')\n"
   ]
  }
 ],
 "metadata": {
  "kernelspec": {
   "display_name": "Python 3",
   "language": "python",
   "name": "python3"
  },
  "language_info": {
   "codemirror_mode": {
    "name": "ipython",
    "version": 3
   },
   "file_extension": ".py",
   "mimetype": "text/x-python",
   "name": "python",
   "nbconvert_exporter": "python",
   "pygments_lexer": "ipython3",
   "version": "3.8.10"
  },
  "orig_nbformat": 4,
  "vscode": {
   "interpreter": {
    "hash": "916dbcbb3f70747c44a77c7bcd40155683ae19c65e1c03b4aa3499c5328201f1"
   }
  }
 },
 "nbformat": 4,
 "nbformat_minor": 2
}
