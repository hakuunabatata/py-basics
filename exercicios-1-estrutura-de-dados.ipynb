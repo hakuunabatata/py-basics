{
 "cells": [
  {
   "cell_type": "markdown",
   "metadata": {},
   "source": [
    "<img src=\"https://asimov.academy/wp-content/uploads/2021/01/logo.png\" width=\"200\"/>\n",
    "_____________________________________________\n",
    "\n",
    "## Exercícios #1 - Estruturas de dados\n"
   ]
  },
  {
   "cell_type": "markdown",
   "metadata": {},
   "source": [
    "### Exercício 1\n",
    "Utilizando o built-in method input(), crie um programa que receba a altura e o peso de uma pessoa e imprima na tela o IMC da mesma."
   ]
  },
  {
   "cell_type": "code",
   "execution_count": 3,
   "metadata": {},
   "outputs": [
    {
     "name": "stdout",
     "output_type": "stream",
     "text": [
      "seu imc é = 33.792470156106525\n"
     ]
    }
   ],
   "source": [
    "height = float(input('Digite sua altura'))\n",
    "weight = float(input('Digite seu peso'))\n",
    "\n",
    "imc = weight / (height ** 2)\n",
    "\n",
    "print(f'seu imc é = {imc}')"
   ]
  },
  {
   "cell_type": "markdown",
   "metadata": {},
   "source": [
    "### Exercício 2 \n",
    "Escreva um programa que pergunte o nome completo do usuário e cumprimente o mesmo pelo primeiro nome."
   ]
  },
  {
   "cell_type": "code",
   "execution_count": 4,
   "metadata": {},
   "outputs": [
    {
     "name": "stdout",
     "output_type": "stream",
     "text": [
      "Ola Evandro Machado Martins\n"
     ]
    }
   ],
   "source": [
    "name = input('Qual seu nome? ')\n",
    "\n",
    "print(f'Ola {name}!')"
   ]
  },
  {
   "cell_type": "markdown",
   "metadata": {},
   "source": [
    "### Exercício 3\n",
    "Desenho um código que extraia o domínio de um e-mail informado."
   ]
  },
  {
   "cell_type": "code",
   "execution_count": 5,
   "metadata": {},
   "outputs": [
    {
     "name": "stdout",
     "output_type": "stream",
     "text": [
      "Seu email é emachadomartins1999@gmaIl.com, que tem como endereço: emachadomartins1999 e dominio: gmaIl.com   \n"
     ]
    }
   ],
   "source": [
    "email = input('Digite um email')\n",
    "address, domain = email.split('@')\n",
    "\n",
    "print(f'Seu email é { email }, que tem como endereço: { address } e dominio: { domain }   ')"
   ]
  },
  {
   "cell_type": "markdown",
   "metadata": {},
   "source": [
    "### Exercício 4 \n",
    "Faça um programa para uma loja de tintas. A pessoa informa a área em m2 que deseja pintar, e o script calculará a quantidade de latas de tinta que a pessoa deve comprar e o valor. Considere que cada litro de tinta pinta 3m2, que cada lata contém 18L e que custa R$ 80."
   ]
  },
  {
   "cell_type": "code",
   "execution_count": 8,
   "metadata": {},
   "outputs": [
    {
     "name": "stdout",
     "output_type": "stream",
     "text": [
      "Voce precisará de 1 latas para pintar 51.0 m² e isso custará R$ 80 \n"
     ]
    }
   ],
   "source": [
    "area = float(input('Qual a area da casa?'))\n",
    "\n",
    "latas = round(area / (3 * 18)) +1\n",
    "\n",
    "valor = latas * 80\n",
    "\n",
    "print(f'Voce precisará de { latas } latas para pintar { area } m² e isso custará R$ { valor } ')"
   ]
  },
  {
   "cell_type": "markdown",
   "metadata": {},
   "source": [
    "### Exercício 5\n",
    "Faça um Programa que pergunte quanto você ganha por hora e o número de horas trabalhadas no mês. Calcule e mostre o total do seu salário no referido mês, sabendo-se que são descontados 11% para o Imposto de Renda, 8% para o INSS e 5% para o sindicato, faça um programa que nos dê:\n",
    "1. Salário bruto.\n",
    "2. Quanto pagou ao INSS.\n",
    "3. Quanto pagou ao sindicato.\n",
    "4. O salário líquido."
   ]
  },
  {
   "cell_type": "code",
   "execution_count": 11,
   "metadata": {},
   "outputs": [
    {
     "name": "stdout",
     "output_type": "stream",
     "text": [
      "Salrio Bruto: R$ 1650.0, Salario Liquido: R$ 1254.0, Sindicato: R$ 82.5, INSS: R$ 132.0\n"
     ]
    }
   ],
   "source": [
    "salarioHora = float(input('Qual seu Salario por Hora?'))\n",
    "horas = float(input('Quantas horas voce trabalhou no mes?'))\n",
    "\n",
    "salario = round(salarioHora * horas, 3)\n",
    "\n",
    "inss = 8 / 100 * salario\n",
    "sind = 5 / 100 * salario\n",
    "irpf = 11 / 100 * salario\n",
    "\n",
    "salarioFinal = salario - ( inss + sind + irpf )\n",
    "\n",
    "print(f'Salrio Bruto: R$ { salario }, Salario Liquido: R$ { salarioFinal }, Sindicato: R$ { sind }, INSS: R$ { inss }')\n",
    "\n"
   ]
  }
 ],
 "metadata": {
  "kernelspec": {
   "display_name": "Python 3",
   "language": "python",
   "name": "python3"
  },
  "language_info": {
   "codemirror_mode": {
    "name": "ipython",
    "version": 3
   },
   "file_extension": ".py",
   "mimetype": "text/x-python",
   "name": "python",
   "nbconvert_exporter": "python",
   "pygments_lexer": "ipython3",
   "version": "3.8.10"
  },
  "vscode": {
   "interpreter": {
    "hash": "916dbcbb3f70747c44a77c7bcd40155683ae19c65e1c03b4aa3499c5328201f1"
   }
  }
 },
 "nbformat": 4,
 "nbformat_minor": 4
}
